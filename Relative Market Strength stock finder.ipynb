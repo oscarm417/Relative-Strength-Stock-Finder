{
 "cells": [
  {
   "cell_type": "code",
   "execution_count": 1,
   "id": "6dd1cb23",
   "metadata": {},
   "outputs": [
    {
     "name": "stdout",
     "output_type": "stream",
     "text": [
      "[*********************100%***********************]  1 of 1 completed\n"
     ]
    }
   ],
   "source": [
    "import pandas as pd\n",
    "import numpy as np\n",
    "import yfinance as yf\n",
    "import matplotlib.pyplot as plt\n",
    "from tqdm import tqdm\n",
    "import pickle \n",
    "\n",
    "\n",
    "stockTickers = pd.read_csv('allStocks.csv')\n",
    "beta = yf.download('spy',period = 'max')\n",
    "stockData = open('stocksData.pkl','rb')\n",
    "alpha = pickle.load(stockData)"
   ]
  },
  {
   "cell_type": "code",
   "execution_count": 2,
   "id": "4aa36521",
   "metadata": {},
   "outputs": [],
   "source": [
    "def relative_strength(beta,stock,lookback):\n",
    "    beta['delta'] = (beta['Open']-beta['Close'])/beta['Close']*100\n",
    "    stock['delta'] = (stock['Open']-stock['Close'])/stock['Close']*100\n",
    "    lookback = lookback*-1\n",
    "    counts = np.where((beta['delta'][lookback:]<0) & (stock['delta'][lookback:]>0),1,0)\n",
    "    strength = round(len(counts[counts==1])/lookback*-1*100,2)\n",
    "    return strength"
   ]
  },
  {
   "cell_type": "code",
   "execution_count": 3,
   "id": "d46d2801",
   "metadata": {},
   "outputs": [],
   "source": [
    "tickers = stockTickers.columns[1:]\n",
    "ranking = pd.DataFrame(index = tickers, columns = ['relative strength'])"
   ]
  },
  {
   "cell_type": "code",
   "execution_count": 24,
   "id": "749f8f3c",
   "metadata": {},
   "outputs": [],
   "source": [
    "data = []\n",
    "for index,alphastock in enumerate(alpha):\n",
    "    try:\n",
    "        res = relative_strength(beta,alphastock[1],60)\n",
    "        data.append(res)\n",
    "    except:\n",
    "        data.append(0)\n",
    "\n"
   ]
  },
  {
   "cell_type": "code",
   "execution_count": 12,
   "id": "5e63bc51",
   "metadata": {},
   "outputs": [],
   "source": [
    "ranking['relative strength'] = data"
   ]
  },
  {
   "cell_type": "code",
   "execution_count": 23,
   "id": "5ea1d5d3",
   "metadata": {},
   "outputs": [
    {
     "name": "stdout",
     "output_type": "stream",
     "text": [
      "       relative strength\n",
      "ATUS               38.33\n",
      "UBX                36.67\n",
      "CLNN               35.00\n",
      "IBA                35.00\n",
      "GLTO               35.00\n",
      "ES                 35.00\n",
      "BLCM               33.33\n",
      "WEC                33.33\n",
      "TESS               33.33\n",
      "LOCO               33.33\n",
      "EVAX               33.33\n",
      "HRL                33.33\n",
      "HLG                33.33\n",
      "FKWL               33.33\n",
      "PFGC               33.33\n",
      "MOXC               33.33\n",
      "LABP               33.33\n",
      "XEL                33.33\n",
      "SIF                33.33\n",
      "ATRO               33.33\n",
      "QH                 33.33\n",
      "RETA               33.33\n",
      "IGXT               33.33\n",
      "QNTA               33.33\n",
      "BGS                33.33\n",
      "FUSN               31.67\n",
      "ANAT               31.67\n",
      "FSTR               31.67\n",
      "RGCO               31.67\n",
      "NRIX               31.67\n",
      "AVLNF              31.67\n",
      "PZG                31.67\n",
      "CIH                31.67\n",
      "OBSV               31.67\n",
      "STTK               31.67\n",
      "INVA               31.67\n",
      "JOBS               31.67\n",
      "IH                 31.67\n",
      "YSG                31.67\n",
      "MRKR               31.67\n",
      "EMAN               31.67\n",
      "VMAR               31.67\n",
      "OBLG               31.67\n",
      "RELI               31.67\n",
      "YPF                31.67\n",
      "AEI                31.67\n",
      "AKUS               31.67\n",
      "VYGR               31.67\n",
      "CDTX               31.67\n",
      "ETNB               31.67\n",
      "WW                 31.67\n",
      "IHRT               31.67\n",
      "BTU                31.67\n",
      "LAWS               31.67\n",
      "IPW                31.67\n",
      "NAOV               31.67\n",
      "MDIA               31.67\n",
      "XERS               31.67\n",
      "IKT                31.67\n",
      "MYSZ               31.67\n",
      "BCSF               31.67\n",
      "WNW                31.67\n",
      "RRGB               31.67\n",
      "SUNS               31.67\n",
      "PETV               31.67\n",
      "JAGX               30.00\n",
      "YALA               30.00\n",
      "CYDY               30.00\n",
      "DBVT               30.00\n",
      "AE                 30.00\n",
      "ITAC               30.00\n",
      "HMTV               30.00\n",
      "ADXN               30.00\n",
      "ENLV               30.00\n",
      "PIRS               30.00\n",
      "LIFE               30.00\n",
      "IMRA               30.00\n",
      "LILAK              30.00\n",
      "HOOK               30.00\n",
      "LIQT               30.00\n",
      "GLYC               30.00\n",
      "BIOX               30.00\n",
      "ENIA               30.00\n",
      "STOK               30.00\n",
      "SINT               30.00\n",
      "API                30.00\n",
      "CDZI               30.00\n",
      "PAM                30.00\n",
      "RMD                30.00\n",
      "CBIO               30.00\n",
      "MNR                30.00\n",
      "ATNM               30.00\n",
      "SUN                30.00\n",
      "EEX                30.00\n",
      "SJM                30.00\n",
      "KFS                30.00\n",
      "LBPH               30.00\n",
      "AGRO               30.00\n",
      "GOLD               30.00\n",
      "DPW                30.00\n"
     ]
    }
   ],
   "source": [
    "temp = ranking.sort_values(by = ['relative strength'], ascending = False)\n",
    "# print(temp[d['strength'] >.8].to_string())\n",
    "print(temp[:100].to_string())"
   ]
  },
  {
   "cell_type": "code",
   "execution_count": null,
   "id": "6eeed288",
   "metadata": {},
   "outputs": [],
   "source": []
  },
  {
   "cell_type": "code",
   "execution_count": null,
   "id": "cf69ee70",
   "metadata": {},
   "outputs": [],
   "source": []
  }
 ],
 "metadata": {
  "kernelspec": {
   "display_name": "Python 3",
   "language": "python",
   "name": "python3"
  },
  "language_info": {
   "codemirror_mode": {
    "name": "ipython",
    "version": 3
   },
   "file_extension": ".py",
   "mimetype": "text/x-python",
   "name": "python",
   "nbconvert_exporter": "python",
   "pygments_lexer": "ipython3",
   "version": "3.8.8"
  }
 },
 "nbformat": 4,
 "nbformat_minor": 5
}
